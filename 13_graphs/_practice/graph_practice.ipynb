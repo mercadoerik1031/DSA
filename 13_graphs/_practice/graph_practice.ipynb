{
 "cells": [
  {
   "cell_type": "markdown",
   "metadata": {},
   "source": [
    "# Level 1: Graph Traversal Fundamentals"
   ]
  },
  {
   "cell_type": "markdown",
   "metadata": {},
   "source": [
    "## 1. Island Counter\n",
    "\n",
    "Given a 2D grid of 1s (land) and 0s (water), count the number of islands\n",
    "An island is a group of connected 1s (connected horizontally or vertically)\n"
   ]
  },
  {
   "cell_type": "code",
   "execution_count": 1,
   "metadata": {},
   "outputs": [],
   "source": [
    "def island_counter(graph):\n",
    "    def is_not_valid(i, j):\n",
    "        return (\n",
    "            i < 0 or i >= len(graph) or j < 0 or j >= len(graph[0]) or graph[i][j] == 0\n",
    "        )\n",
    "\n",
    "    def dfs(i, j):\n",
    "        if is_not_valid(i, j):\n",
    "            return\n",
    "\n",
    "        graph[i][j] = 0\n",
    "\n",
    "        dfs(i + 1, j)\n",
    "        dfs(i - 1, j)\n",
    "        dfs(i, j + 1)\n",
    "        dfs(i, j - 1)\n",
    "\n",
    "    if not graph:\n",
    "        return 0\n",
    "\n",
    "    r = len(graph)\n",
    "    c = len(graph[0])\n",
    "    count = 0\n",
    "\n",
    "    for i in range(r):\n",
    "        for j in range(c):\n",
    "            if graph[i][j] == 1:\n",
    "                count += 1\n",
    "                dfs(i, j)\n",
    "\n",
    "    return count"
   ]
  },
  {
   "cell_type": "markdown",
   "metadata": {},
   "source": [
    "### Test Cases"
   ]
  },
  {
   "cell_type": "code",
   "execution_count": 2,
   "metadata": {},
   "outputs": [
    {
     "name": "stdout",
     "output_type": "stream",
     "text": [
      "Grid:\n",
      "[[1, 1, 0, 0], [1, 0, 0, 0], [0, 0, 1, 0], [0, 0, 0, 1]]\n",
      "Islands: 3\n",
      "\n",
      "Grid:\n",
      "[[1, 1], [1, 1]]\n",
      "Islands: 1\n",
      "\n",
      "Grid:\n",
      "[[0, 0], [0, 0]]\n",
      "Islands: 0\n",
      "\n",
      "Grid:\n",
      "[[1, 1, 0], [0, 1, 0], [1, 1, 0]]\n",
      "Islands: 1\n",
      "\n"
     ]
    }
   ],
   "source": [
    "test_cases = [\n",
    "    # Your original case - 3 islands\n",
    "    [[1, 1, 0, 0], [1, 0, 0, 0], [0, 0, 1, 0], [0, 0, 0, 1]],\n",
    "    # Single island\n",
    "    [[1, 1], [1, 1]],\n",
    "    # No islands\n",
    "    [[0, 0], [0, 0]],\n",
    "    # Complex shape\n",
    "    [[1, 1, 0], [0, 1, 0], [1, 1, 0]],\n",
    "]\n",
    "\n",
    "for grid in test_cases:\n",
    "    # Create a deep copy since your function modifies the input\n",
    "    grid_copy = [row[:] for row in grid]\n",
    "    print(f\"Grid:\\n{grid_copy}\")\n",
    "    print(f\"Islands: {island_counter(grid_copy)}\\n\")"
   ]
  },
  {
   "cell_type": "markdown",
   "metadata": {},
   "source": [
    "## 2. Path Exists\n",
    "\n",
    "Given an adjacency list and two nodes, determine if there exists a path between them"
   ]
  },
  {
   "cell_type": "code",
   "execution_count": 3,
   "metadata": {},
   "outputs": [],
   "source": [
    "from collections import deque\n",
    "\n",
    "\n",
    "def path_exists(start, target, graph):\n",
    "    def dfs(node, target, visited=None):\n",
    "        if node not in graph:\n",
    "            return False\n",
    "\n",
    "        if visited is None:\n",
    "            visited = set()\n",
    "\n",
    "        if not node:\n",
    "            return False\n",
    "\n",
    "        visited.add(node)\n",
    "\n",
    "        if node == target:\n",
    "            return True\n",
    "\n",
    "        for neighbor in graph[node]:\n",
    "            if neighbor not in visited:\n",
    "                if dfs(neighbor, target, visited):\n",
    "                    return True\n",
    "\n",
    "        return False\n",
    "\n",
    "    def bfs(node, target):\n",
    "        if node not in graph:\n",
    "            return False\n",
    "\n",
    "        visited = set()\n",
    "        queue = deque([node])\n",
    "        visited.add(node)\n",
    "\n",
    "        while queue:\n",
    "            curr = queue.popleft()\n",
    "\n",
    "            if curr == target:\n",
    "                return True\n",
    "\n",
    "            for neighbor in graph[curr]:\n",
    "                if neighbor not in visited:\n",
    "                    queue.append(neighbor)\n",
    "                    visited.add(neighbor)\n",
    "\n",
    "        return False\n",
    "\n",
    "    res_dfs = dfs(start, target)\n",
    "    res_bfs = bfs(start, target)\n",
    "\n",
    "    return res_dfs, res_bfs"
   ]
  },
  {
   "cell_type": "markdown",
   "metadata": {},
   "source": [
    "### Test Cases"
   ]
  },
  {
   "cell_type": "code",
   "execution_count": 5,
   "metadata": {},
   "outputs": [
    {
     "name": "stdout",
     "output_type": "stream",
     "text": [
      "All test cases passed!\n"
     ]
    }
   ],
   "source": [
    "def test_path_exists():\n",
    "    # Test Case 1: Simple connected graph\n",
    "    graph1 = {\"A\": [\"B\", \"C\"], \"B\": [\"D\"], \"C\": [\"D\"], \"D\": []}\n",
    "    assert path_exists(\"A\", \"D\", graph1) == (\n",
    "        True,\n",
    "        True,\n",
    "    )  # Path exists via both DFS and BFS\n",
    "\n",
    "    # Test Case 2: Disconnected graph\n",
    "    graph2 = {\"A\": [\"B\"], \"B\": [\"C\"], \"C\": [], \"D\": [\"E\"], \"E\": []}\n",
    "    assert path_exists(\"A\", \"E\", graph2) == (False, False)  # No path from A to E\n",
    "\n",
    "    # Test Case 3: Single node graph\n",
    "    graph3 = {\"A\": []}\n",
    "    assert path_exists(\"A\", \"A\", graph3) == (\n",
    "        True,\n",
    "        True,\n",
    "    )  # Start and target are the same\n",
    "\n",
    "    # Test Case 4: Graph with isolated nodes\n",
    "    graph4 = {\"A\": [\"B\"], \"B\": [], \"C\": [\"D\"], \"D\": []}\n",
    "    assert path_exists(\"A\", \"D\", graph4) == (\n",
    "        False,\n",
    "        False,\n",
    "    )  # No connection between A and D\n",
    "\n",
    "    # Test Case 5: Cyclic graph\n",
    "    graph5 = {\"A\": [\"B\"], \"B\": [\"C\"], \"C\": [\"A\", \"D\"], \"D\": []}\n",
    "    assert path_exists(\"A\", \"D\", graph5) == (True, True)  # Path exists in cyclic graph\n",
    "\n",
    "    # Test Case 6: Path doesn't exist when target is isolated\n",
    "    graph6 = {\"A\": [\"B\"], \"B\": [\"C\"], \"C\": [], \"D\": []}\n",
    "    assert path_exists(\"A\", \"D\", graph6) == (False, False)  # D is isolated\n",
    "\n",
    "    # Test Case 7: Start or target node doesn't exist\n",
    "    graph7 = {\"A\": [\"B\"], \"B\": [\"C\"], \"C\": []}\n",
    "    assert path_exists(\"A\", \"Z\", graph7) == (False, False)  # Target node doesn't exist\n",
    "    assert path_exists(\"X\", \"C\", graph7) == (False, False)  # Start node doesn't exist\n",
    "\n",
    "    # Test Case 8: Multiple paths to target\n",
    "    graph8 = {\"A\": [\"B\", \"C\"], \"B\": [\"D\"], \"C\": [\"D\"], \"D\": []}\n",
    "    assert path_exists(\"A\", \"D\", graph8) == (True, True)  # Multiple paths to D\n",
    "\n",
    "    print(\"All test cases passed!\")\n",
    "\n",
    "\n",
    "test_path_exists()"
   ]
  },
  {
   "cell_type": "markdown",
   "metadata": {},
   "source": [
    "# Level 2: Graph Properties"
   ]
  },
  {
   "cell_type": "markdown",
   "metadata": {},
   "source": [
    "## 3. Cycle Detection\n",
    "\n",
    "Determine if an undirected graph contains a cycle. A cycle is a path that starts and ends at the same vertex"
   ]
  },
  {
   "cell_type": "code",
   "execution_count": 21,
   "metadata": {},
   "outputs": [
    {
     "name": "stdout",
     "output_type": "stream",
     "text": [
      "True\n"
     ]
    }
   ],
   "source": [
    "def has_cycle(graph):\n",
    "    def dfs(node, parent, visited):\n",
    "        visited.add(node)\n",
    "\n",
    "        for neighbor in graph[node]:\n",
    "            if neighbor in visited:\n",
    "                if neighbor != parent:\n",
    "                    return True\n",
    "            else:\n",
    "                if dfs(neighbor, node, visited):\n",
    "                    return True\n",
    "\n",
    "        return False\n",
    "\n",
    "    visited = set()\n",
    "    for vertex in graph:\n",
    "        if vertex not in visited:\n",
    "            if dfs(vertex, None, visited):\n",
    "                return True\n",
    "\n",
    "    return False\n",
    "\n",
    "\n",
    "graph = {\"A\": [\"B\"], \"B\": [\"E\", \"C\"], \"E\": [\"B\", \"D\"], \"D\": [\"E\", \"C\"], \"C\": [\"D\", \"B\"]}\n",
    "\n",
    "print(has_cycle(graph))"
   ]
  }
 ],
 "metadata": {
  "kernelspec": {
   "display_name": "Python 3",
   "language": "python",
   "name": "python3"
  },
  "language_info": {
   "codemirror_mode": {
    "name": "ipython",
    "version": 3
   },
   "file_extension": ".py",
   "mimetype": "text/x-python",
   "name": "python",
   "nbconvert_exporter": "python",
   "pygments_lexer": "ipython3",
   "version": "3.11.3"
  }
 },
 "nbformat": 4,
 "nbformat_minor": 2
}
